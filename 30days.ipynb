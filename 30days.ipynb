{
 "cells": [
  {
   "cell_type": "code",
   "execution_count": 1,
   "metadata": {},
   "outputs": [],
   "source": [
    "import re\n",
    "import pandas as pd\n",
    "\n",
    "# Read the text data\n",
    "with open(r\"C:\\Users\\hpalm\\Downloads\\30days.txt\", 'r') as file:\n",
    "    text_data = file.read()\n",
    "\n",
    "# Define regular expressions to extract information\n",
    "name_pattern = r\"Name:\\s*(.+)\"\n",
    "company_pattern = r\"Company:\\s*(.+)\"\n",
    "email_pattern = r\"Contact Email:\\s*([\\w\\.-]+@[\\w\\.-]+)\"\n",
    "\n",
    "# Find all matches for the patterns in the text data\n",
    "names = re.findall(name_pattern, text_data)\n",
    "companies = re.findall(company_pattern, text_data)\n",
    "emails = re.findall(email_pattern, text_data)\n",
    "\n",
    "# Create the pandas DataFrame with columns in the desired order\n",
    "df = pd.DataFrame({\n",
    "    'Company': companies,\n",
    "    'Name': names,\n",
    "    'Contact Email': emails\n",
    "})\n",
    "\n",
    "# Drop duplicated rows based on the \"Company\" column\n",
    "df = df.drop_duplicates(subset=['Company'], keep='first')\n"
   ]
  },
  {
   "cell_type": "code",
   "execution_count": 2,
   "metadata": {},
   "outputs": [
    {
     "name": "stdout",
     "output_type": "stream",
     "text": [
      "                                     Company                Name  \\\n",
      "0                  BIONIC Emergency Services        Shane Dodson   \n",
      "1                           1855drflood (GA)    Christian Pounds   \n",
      "2               My All Dry Northeast Atlanta     Kellen Stennett   \n",
      "3                         Safehouse IAQ (FL)          Chris Camp   \n",
      "4           Express Damage Restoration of KY        Jason Hunter   \n",
      "..                                       ...                 ...   \n",
      "157            Advanced American Restoration       Jesse Jimenez   \n",
      "158                    Four Seasons Plumbing           AJ Malone   \n",
      "159                      A+N Restoration LLC       Aaron Acevedo   \n",
      "160                            Sewer Proâ€™s     Montaser Aramin   \n",
      "161  First Responder Restoration & Construct  Jeremy VanDelinder   \n",
      "\n",
      "                                  Contact Email  \n",
      "0                         shane@bionic24365.com  \n",
      "1                           pounds411@gmail.com  \n",
      "2                  kellen.stennett@myalldry.com  \n",
      "3                        chris@safehouseiaq.com  \n",
      "4                                jason@edr1.org  \n",
      "..                                          ...  \n",
      "157                    jjjimenez949@myyahoo.com  \n",
      "158                maloneplumbingsvc@icloud.com  \n",
      "159  aaronacevedo@anrestoration.onmicrosoft.com  \n",
      "160                     sewerprosfast@gmail.com  \n",
      "161       jeremy@firstresponderconstruction.com  \n",
      "\n",
      "[104 rows x 3 columns]\n"
     ]
    }
   ],
   "source": [
    "# Display the DataFrame\n",
    "print(df)\n",
    "\n",
    "# Save the DataFrame to a CSV file\n",
    "df.to_csv('30days.csv', index=False)"
   ]
  }
 ],
 "metadata": {
  "kernelspec": {
   "display_name": "tfradeon",
   "language": "python",
   "name": "python3"
  },
  "language_info": {
   "codemirror_mode": {
    "name": "ipython",
    "version": 3
   },
   "file_extension": ".py",
   "mimetype": "text/x-python",
   "name": "python",
   "nbconvert_exporter": "python",
   "pygments_lexer": "ipython3",
   "version": "3.6.13"
  },
  "orig_nbformat": 4
 },
 "nbformat": 4,
 "nbformat_minor": 2
}
