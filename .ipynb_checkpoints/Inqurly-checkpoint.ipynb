{
 "cells": [
  {
   "cell_type": "code",
   "execution_count": null,
   "metadata": {},
   "outputs": [],
   "source": [
    "import pandas as pd\n",
    "import matplotlib.pyplot as plt"
   ]
  },
  {
   "cell_type": "code",
   "execution_count": 1,
   "metadata": {},
   "outputs": [
    {
     "ename": "NameError",
     "evalue": "name 'pd' is not defined",
     "output_type": "error",
     "traceback": [
      "\u001b[1;31m---------------------------------------------------------------------------\u001b[0m",
      "\u001b[1;31mNameError\u001b[0m                                 Traceback (most recent call last)",
      "\u001b[1;32m<ipython-input-1-a9f8135b9de7>\u001b[0m in \u001b[0;36m<module>\u001b[1;34m\u001b[0m\n\u001b[1;32m----> 1\u001b[1;33m \u001b[0mdf\u001b[0m \u001b[1;33m=\u001b[0m \u001b[0mpd\u001b[0m\u001b[1;33m.\u001b[0m\u001b[0mread_csv\u001b[0m\u001b[1;33m(\u001b[0m\u001b[1;34mr\"C:\\Users\\hpalm\\Downloads\\inqui4.csv\"\u001b[0m\u001b[1;33m,\u001b[0m\u001b[0msep\u001b[0m\u001b[1;33m=\u001b[0m\u001b[1;34m';'\u001b[0m\u001b[1;33m)\u001b[0m\u001b[1;33m\u001b[0m\u001b[1;33m\u001b[0m\u001b[0m\n\u001b[0m\u001b[0;32m      2\u001b[0m \u001b[0mdf\u001b[0m\u001b[1;33m.\u001b[0m\u001b[0mfillna\u001b[0m\u001b[1;33m(\u001b[0m\u001b[1;36m0\u001b[0m\u001b[1;33m,\u001b[0m \u001b[0minplace\u001b[0m\u001b[1;33m=\u001b[0m\u001b[1;32mTrue\u001b[0m\u001b[1;33m)\u001b[0m\u001b[1;33m\u001b[0m\u001b[1;33m\u001b[0m\u001b[0m\n",
      "\u001b[1;31mNameError\u001b[0m: name 'pd' is not defined"
     ]
    }
   ],
   "source": [
    "df = pd.read_csv(r\"C:\\Users\\hpalm\\Downloads\\inqui4.csv\",sep=';')\n",
    "df.fillna(0, inplace=True)"
   ]
  },
  {
   "cell_type": "code",
   "execution_count": 39,
   "metadata": {},
   "outputs": [],
   "source": [
    "# Method 2: Delete multiple columns by label\n",
    "#columns_to_delete = ['All Dry Services of Dallas (manual credit billing)', 'Best Option Restoration of North Houston','Rainy Day Restoration']\n",
    "#df = df.drop(columns_to_delete, axis=1)"
   ]
  },
  {
   "cell_type": "code",
   "execution_count": 3,
   "metadata": {},
   "outputs": [
    {
     "data": {
      "text/html": [
       "<div>\n",
       "<style scoped>\n",
       "    .dataframe tbody tr th:only-of-type {\n",
       "        vertical-align: middle;\n",
       "    }\n",
       "\n",
       "    .dataframe tbody tr th {\n",
       "        vertical-align: top;\n",
       "    }\n",
       "\n",
       "    .dataframe thead th {\n",
       "        text-align: right;\n",
       "    }\n",
       "</style>\n",
       "<table border=\"1\" class=\"dataframe\">\n",
       "  <thead>\n",
       "    <tr style=\"text-align: right;\">\n",
       "      <th></th>\n",
       "      <th>A</th>\n",
       "      <th>B</th>\n",
       "    </tr>\n",
       "  </thead>\n",
       "  <tbody>\n",
       "    <tr>\n",
       "      <th>0</th>\n",
       "      <td>30002.0</td>\n",
       "      <td>30002</td>\n",
       "    </tr>\n",
       "    <tr>\n",
       "      <th>1</th>\n",
       "      <td>30003.0</td>\n",
       "      <td>30003</td>\n",
       "    </tr>\n",
       "    <tr>\n",
       "      <th>2</th>\n",
       "      <td>30006.0</td>\n",
       "      <td>30004</td>\n",
       "    </tr>\n",
       "    <tr>\n",
       "      <th>3</th>\n",
       "      <td>30007.0</td>\n",
       "      <td>30005</td>\n",
       "    </tr>\n",
       "    <tr>\n",
       "      <th>4</th>\n",
       "      <td>30008.0</td>\n",
       "      <td>30006</td>\n",
       "    </tr>\n",
       "    <tr>\n",
       "      <th>...</th>\n",
       "      <td>...</td>\n",
       "      <td>...</td>\n",
       "    </tr>\n",
       "    <tr>\n",
       "      <th>197</th>\n",
       "      <td>0.0</td>\n",
       "      <td>31192</td>\n",
       "    </tr>\n",
       "    <tr>\n",
       "      <th>198</th>\n",
       "      <td>0.0</td>\n",
       "      <td>31193</td>\n",
       "    </tr>\n",
       "    <tr>\n",
       "      <th>199</th>\n",
       "      <td>0.0</td>\n",
       "      <td>31195</td>\n",
       "    </tr>\n",
       "    <tr>\n",
       "      <th>200</th>\n",
       "      <td>0.0</td>\n",
       "      <td>31196</td>\n",
       "    </tr>\n",
       "    <tr>\n",
       "      <th>201</th>\n",
       "      <td>0.0</td>\n",
       "      <td>39901</td>\n",
       "    </tr>\n",
       "  </tbody>\n",
       "</table>\n",
       "<p>202 rows × 2 columns</p>\n",
       "</div>"
      ],
      "text/plain": [
       "           A      B\n",
       "0    30002.0  30002\n",
       "1    30003.0  30003\n",
       "2    30006.0  30004\n",
       "3    30007.0  30005\n",
       "4    30008.0  30006\n",
       "..       ...    ...\n",
       "197      0.0  31192\n",
       "198      0.0  31193\n",
       "199      0.0  31195\n",
       "200      0.0  31196\n",
       "201      0.0  39901\n",
       "\n",
       "[202 rows x 2 columns]"
      ]
     },
     "execution_count": 3,
     "metadata": {},
     "output_type": "execute_result"
    }
   ],
   "source": [
    "df"
   ]
  },
  {
   "cell_type": "code",
   "execution_count": 5,
   "metadata": {},
   "outputs": [],
   "source": [
    "df=df.drop(columns='B')"
   ]
  },
  {
   "cell_type": "code",
   "execution_count": 4,
   "metadata": {},
   "outputs": [],
   "source": [
    "import pandas as pd\n",
    "\n",
    "def find_duplicates_in_other_classes(df, class_index):\n",
    "    # Get the column name of the selected class\n",
    "    selected_class_col = df.columns[class_index]\n",
    "    \n",
    "    # Initialize a dictionary to store duplicated values and their occurrences\n",
    "    duplicated_data = {'Duplicated Values': [], 'Count': [], 'Companies overlapping': []}\n",
    "    \n",
    "    # Loop through each value in the selected class\n",
    "    for _, row in df.iterrows():\n",
    "        value = row[selected_class_col]\n",
    "        \n",
    "        # Initialize variables to track the number of occurrences and the columns where the value is duplicated\n",
    "        count = 0\n",
    "        columns_found = []\n",
    "        \n",
    "        # Loop through each column in the dataset except the selected class\n",
    "        for col in df.columns:\n",
    "            if col != selected_class_col:\n",
    "                # Check if the value is duplicated in the current class\n",
    "                if value in df[col].values:\n",
    "                    count += 1\n",
    "                    columns_found.append(col)\n",
    "        \n",
    "        # If the value is duplicated in any other class, add it to the dictionary\n",
    "        if count > 0:\n",
    "            duplicated_data['Duplicated Values'].append(value)\n",
    "            duplicated_data['Count'].append(count)\n",
    "            duplicated_data['Companies overlapping'].append(', '.join(columns_found))\n",
    "    \n",
    "    # Convert the dictionary to a pandas DataFrame\n",
    "    df_duplicated_values = pd.DataFrame(duplicated_data)\n",
    "    \n",
    "    return df_duplicated_values\n"
   ]
  },
  {
   "cell_type": "code",
   "execution_count": 5,
   "metadata": {},
   "outputs": [
    {
     "name": "stdout",
     "output_type": "stream",
     "text": [
      "     Duplicated Values  Count Companies overlapping\n",
      "0              30002.0      1                     B\n",
      "1              30003.0      1                     B\n",
      "2              30006.0      1                     B\n",
      "3              30007.0      1                     B\n",
      "4              30008.0      1                     B\n",
      "..                 ...    ...                   ...\n",
      "150            31192.0      1                     B\n",
      "151            31193.0      1                     B\n",
      "152            31195.0      1                     B\n",
      "153            31196.0      1                     B\n",
      "154            39901.0      1                     B\n",
      "\n",
      "[155 rows x 3 columns]\n"
     ]
    }
   ],
   "source": [
    "import pandas as pd\n",
    "\n",
    "# Replace 2 with the index of the class you want to check\n",
    "class_index = 0\n",
    "\n",
    "df_duplicated_values = find_duplicates_in_other_classes(df, class_index)\n",
    "\n",
    "# Remove rows with a 0 value in the 'Duplicated Values' column\n",
    "df_duplicated_values = df_duplicated_values[df_duplicated_values['Duplicated Values'] != 0]\n",
    "\n",
    "# Export the DataFrame to a CSV file\n",
    "output_file = \"duplicated_values.csv\"\n",
    "df_duplicated_values.to_csv(output_file, index=False)\n",
    "\n",
    "print(df_duplicated_values)\n"
   ]
  }
 ],
 "metadata": {
  "kernelspec": {
   "display_name": "Python 3",
   "language": "python",
   "name": "python3"
  },
  "language_info": {
   "codemirror_mode": {
    "name": "ipython",
    "version": 3
   },
   "file_extension": ".py",
   "mimetype": "text/x-python",
   "name": "python",
   "nbconvert_exporter": "python",
   "pygments_lexer": "ipython3",
   "version": "3.6.13"
  }
 },
 "nbformat": 4,
 "nbformat_minor": 2
}
