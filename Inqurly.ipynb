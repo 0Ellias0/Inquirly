{
 "cells": [
  {
   "cell_type": "code",
   "execution_count": 7,
   "metadata": {},
   "outputs": [],
   "source": [
    "import pandas as pd"
   ]
  },
  {
   "cell_type": "code",
   "execution_count": 8,
   "metadata": {},
   "outputs": [],
   "source": [
    "df = pd.read_csv(r\"C:\\Users\\hpalm\\Downloads\\inqui4.csv\",sep=';')\n",
    "df.fillna(0, inplace=True)"
   ]
  },
  {
   "cell_type": "code",
   "execution_count": 39,
   "metadata": {},
   "outputs": [],
   "source": [
    "# Method 2: Delete multiple columns by label\n",
    "#columns_to_delete = ['All Dry Services of Dallas (manual credit billing)', 'Best Option Restoration of North Houston','Rainy Day Restoration']\n",
    "#df = df.drop(columns_to_delete, axis=1)"
   ]
  },
  {
   "cell_type": "code",
   "execution_count": 9,
   "metadata": {},
   "outputs": [
    {
     "data": {
      "text/html": [
       "<div>\n",
       "<style scoped>\n",
       "    .dataframe tbody tr th:only-of-type {\n",
       "        vertical-align: middle;\n",
       "    }\n",
       "\n",
       "    .dataframe tbody tr th {\n",
       "        vertical-align: top;\n",
       "    }\n",
       "\n",
       "    .dataframe thead th {\n",
       "        text-align: right;\n",
       "    }\n",
       "</style>\n",
       "<table border=\"1\" class=\"dataframe\">\n",
       "  <thead>\n",
       "    <tr style=\"text-align: right;\">\n",
       "      <th></th>\n",
       "      <th>A</th>\n",
       "      <th>B</th>\n",
       "    </tr>\n",
       "  </thead>\n",
       "  <tbody>\n",
       "    <tr>\n",
       "      <th>0</th>\n",
       "      <td>90620</td>\n",
       "      <td>90210.0</td>\n",
       "    </tr>\n",
       "    <tr>\n",
       "      <th>1</th>\n",
       "      <td>90621</td>\n",
       "      <td>90211.0</td>\n",
       "    </tr>\n",
       "    <tr>\n",
       "      <th>2</th>\n",
       "      <td>90622</td>\n",
       "      <td>90212.0</td>\n",
       "    </tr>\n",
       "    <tr>\n",
       "      <th>3</th>\n",
       "      <td>90623</td>\n",
       "      <td>90035.0</td>\n",
       "    </tr>\n",
       "    <tr>\n",
       "      <th>4</th>\n",
       "      <td>90624</td>\n",
       "      <td>90027.0</td>\n",
       "    </tr>\n",
       "    <tr>\n",
       "      <th>...</th>\n",
       "      <td>...</td>\n",
       "      <td>...</td>\n",
       "    </tr>\n",
       "    <tr>\n",
       "      <th>141</th>\n",
       "      <td>92871</td>\n",
       "      <td>0.0</td>\n",
       "    </tr>\n",
       "    <tr>\n",
       "      <th>142</th>\n",
       "      <td>92885</td>\n",
       "      <td>0.0</td>\n",
       "    </tr>\n",
       "    <tr>\n",
       "      <th>143</th>\n",
       "      <td>92886</td>\n",
       "      <td>0.0</td>\n",
       "    </tr>\n",
       "    <tr>\n",
       "      <th>144</th>\n",
       "      <td>92887</td>\n",
       "      <td>0.0</td>\n",
       "    </tr>\n",
       "    <tr>\n",
       "      <th>145</th>\n",
       "      <td>92899</td>\n",
       "      <td>0.0</td>\n",
       "    </tr>\n",
       "  </tbody>\n",
       "</table>\n",
       "<p>146 rows × 2 columns</p>\n",
       "</div>"
      ],
      "text/plain": [
       "         A        B\n",
       "0    90620  90210.0\n",
       "1    90621  90211.0\n",
       "2    90622  90212.0\n",
       "3    90623  90035.0\n",
       "4    90624  90027.0\n",
       "..     ...      ...\n",
       "141  92871      0.0\n",
       "142  92885      0.0\n",
       "143  92886      0.0\n",
       "144  92887      0.0\n",
       "145  92899      0.0\n",
       "\n",
       "[146 rows x 2 columns]"
      ]
     },
     "execution_count": 9,
     "metadata": {},
     "output_type": "execute_result"
    }
   ],
   "source": [
    "df"
   ]
  },
  {
   "cell_type": "code",
   "execution_count": 5,
   "metadata": {},
   "outputs": [],
   "source": [
    "df=df.drop(columns='B')"
   ]
  },
  {
   "cell_type": "code",
   "execution_count": 5,
   "metadata": {},
   "outputs": [],
   "source": [
    "import pandas as pd\n",
    "\n",
    "def find_duplicates_in_other_classes(df, class_index):\n",
    "    # Get the column name of the selected class\n",
    "    selected_class_col = df.columns[class_index]\n",
    "    \n",
    "    # Initialize a dictionary to store duplicated values and their occurrences\n",
    "    duplicated_data = {'Duplicated Values': [], 'Count': [], 'Companies overlapping': []}\n",
    "    \n",
    "    # Loop through each value in the selected class\n",
    "    for _, row in df.iterrows():\n",
    "        value = row[selected_class_col]\n",
    "        \n",
    "        # Initialize variables to track the number of occurrences and the columns where the value is duplicated\n",
    "        count = 0\n",
    "        columns_found = []\n",
    "        \n",
    "        # Loop through each column in the dataset except the selected class\n",
    "        for col in df.columns:\n",
    "            if col != selected_class_col:\n",
    "                # Check if the value is duplicated in the current class\n",
    "                if value in df[col].values:\n",
    "                    count += 1\n",
    "                    columns_found.append(col)\n",
    "        \n",
    "        # If the value is duplicated in any other class, add it to the dictionary\n",
    "        if count > 0:\n",
    "            duplicated_data['Duplicated Values'].append(value)\n",
    "            duplicated_data['Count'].append(count)\n",
    "            duplicated_data['Companies overlapping'].append(', '.join(columns_found))\n",
    "    \n",
    "    # Convert the dictionary to a pandas DataFrame\n",
    "    df_duplicated_values = pd.DataFrame(duplicated_data)\n",
    "    \n",
    "    return df_duplicated_values\n"
   ]
  },
  {
   "cell_type": "code",
   "execution_count": 6,
   "metadata": {},
   "outputs": [
    {
     "name": "stdout",
     "output_type": "stream",
     "text": [
      "Empty DataFrame\n",
      "Columns: [Duplicated Values, Count, Companies overlapping]\n",
      "Index: []\n"
     ]
    }
   ],
   "source": [
    "import pandas as pd\n",
    "\n",
    "# Replace 2 with the index of the class you want to check\n",
    "class_index = 0\n",
    "\n",
    "df_duplicated_values = find_duplicates_in_other_classes(df, class_index)\n",
    "\n",
    "# Remove rows with a 0 value in the 'Duplicated Values' column\n",
    "df_duplicated_values = df_duplicated_values[df_duplicated_values['Duplicated Values'] != 0]\n",
    "\n",
    "# Export the DataFrame to a CSV file\n",
    "output_file = \"duplicated_values.csv\"\n",
    "df_duplicated_values.to_csv(output_file, index=False)\n",
    "\n",
    "print(df_duplicated_values)\n"
   ]
  }
 ],
 "metadata": {
  "kernelspec": {
   "display_name": "tfradeon",
   "language": "python",
   "name": "python3"
  },
  "language_info": {
   "codemirror_mode": {
    "name": "ipython",
    "version": 3
   },
   "file_extension": ".py",
   "mimetype": "text/x-python",
   "name": "python",
   "nbconvert_exporter": "python",
   "pygments_lexer": "ipython3",
   "version": "3.9.18"
  },
  "orig_nbformat": 4
 },
 "nbformat": 4,
 "nbformat_minor": 2
}
