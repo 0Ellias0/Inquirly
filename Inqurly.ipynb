{
 "cells": [
  {
   "cell_type": "code",
   "execution_count": 1,
   "metadata": {},
   "outputs": [],
   "source": [
    "import pandas as pd\n",
    "import matplotlib.pyplot as plt"
   ]
  },
  {
   "cell_type": "code",
   "execution_count": 2,
   "metadata": {},
   "outputs": [],
   "source": [
    "df = pd.read_csv(r\"C:\\Users\\hpalm\\Downloads\\inqui4.csv\",sep=';')\n",
    "df.fillna(0, inplace=True)"
   ]
  },
  {
   "cell_type": "code",
   "execution_count": 39,
   "metadata": {},
   "outputs": [],
   "source": [
    "# Method 2: Delete multiple columns by label\n",
    "#columns_to_delete = ['All Dry Services of Dallas (manual credit billing)', 'Best Option Restoration of North Houston','Rainy Day Restoration']\n",
    "#df = df.drop(columns_to_delete, axis=1)"
   ]
  },
  {
   "cell_type": "code",
   "execution_count": 3,
   "metadata": {},
   "outputs": [
    {
     "data": {
      "text/html": [
       "<div>\n",
       "<style scoped>\n",
       "    .dataframe tbody tr th:only-of-type {\n",
       "        vertical-align: middle;\n",
       "    }\n",
       "\n",
       "    .dataframe tbody tr th {\n",
       "        vertical-align: top;\n",
       "    }\n",
       "\n",
       "    .dataframe thead th {\n",
       "        text-align: right;\n",
       "    }\n",
       "</style>\n",
       "<table border=\"1\" class=\"dataframe\">\n",
       "  <thead>\n",
       "    <tr style=\"text-align: right;\">\n",
       "      <th></th>\n",
       "      <th>A</th>\n",
       "      <th>B</th>\n",
       "    </tr>\n",
       "  </thead>\n",
       "  <tbody>\n",
       "    <tr>\n",
       "      <th>0</th>\n",
       "      <td>7002</td>\n",
       "      <td>7010.0</td>\n",
       "    </tr>\n",
       "    <tr>\n",
       "      <th>1</th>\n",
       "      <td>7003</td>\n",
       "      <td>7020.0</td>\n",
       "    </tr>\n",
       "    <tr>\n",
       "      <th>2</th>\n",
       "      <td>7004</td>\n",
       "      <td>7022.0</td>\n",
       "    </tr>\n",
       "    <tr>\n",
       "      <th>3</th>\n",
       "      <td>7005</td>\n",
       "      <td>7024.0</td>\n",
       "    </tr>\n",
       "    <tr>\n",
       "      <th>4</th>\n",
       "      <td>7006</td>\n",
       "      <td>7026.0</td>\n",
       "    </tr>\n",
       "    <tr>\n",
       "      <th>...</th>\n",
       "      <td>...</td>\n",
       "      <td>...</td>\n",
       "    </tr>\n",
       "    <tr>\n",
       "      <th>257</th>\n",
       "      <td>7974</td>\n",
       "      <td>0.0</td>\n",
       "    </tr>\n",
       "    <tr>\n",
       "      <th>258</th>\n",
       "      <td>7976</td>\n",
       "      <td>0.0</td>\n",
       "    </tr>\n",
       "    <tr>\n",
       "      <th>259</th>\n",
       "      <td>7980</td>\n",
       "      <td>0.0</td>\n",
       "    </tr>\n",
       "    <tr>\n",
       "      <th>260</th>\n",
       "      <td>7981</td>\n",
       "      <td>0.0</td>\n",
       "    </tr>\n",
       "    <tr>\n",
       "      <th>261</th>\n",
       "      <td>7999</td>\n",
       "      <td>0.0</td>\n",
       "    </tr>\n",
       "  </tbody>\n",
       "</table>\n",
       "<p>262 rows × 2 columns</p>\n",
       "</div>"
      ],
      "text/plain": [
       "        A       B\n",
       "0    7002  7010.0\n",
       "1    7003  7020.0\n",
       "2    7004  7022.0\n",
       "3    7005  7024.0\n",
       "4    7006  7026.0\n",
       "..    ...     ...\n",
       "257  7974     0.0\n",
       "258  7976     0.0\n",
       "259  7980     0.0\n",
       "260  7981     0.0\n",
       "261  7999     0.0\n",
       "\n",
       "[262 rows x 2 columns]"
      ]
     },
     "execution_count": 3,
     "metadata": {},
     "output_type": "execute_result"
    }
   ],
   "source": [
    "df"
   ]
  },
  {
   "cell_type": "code",
   "execution_count": 5,
   "metadata": {},
   "outputs": [],
   "source": [
    "df=df.drop(columns='B')"
   ]
  },
  {
   "cell_type": "code",
   "execution_count": 4,
   "metadata": {},
   "outputs": [],
   "source": [
    "import pandas as pd\n",
    "\n",
    "def find_duplicates_in_other_classes(df, class_index):\n",
    "    # Get the column name of the selected class\n",
    "    selected_class_col = df.columns[class_index]\n",
    "    \n",
    "    # Initialize a dictionary to store duplicated values and their occurrences\n",
    "    duplicated_data = {'Duplicated Values': [], 'Count': [], 'Companies overlapping': []}\n",
    "    \n",
    "    # Loop through each value in the selected class\n",
    "    for _, row in df.iterrows():\n",
    "        value = row[selected_class_col]\n",
    "        \n",
    "        # Initialize variables to track the number of occurrences and the columns where the value is duplicated\n",
    "        count = 0\n",
    "        columns_found = []\n",
    "        \n",
    "        # Loop through each column in the dataset except the selected class\n",
    "        for col in df.columns:\n",
    "            if col != selected_class_col:\n",
    "                # Check if the value is duplicated in the current class\n",
    "                if value in df[col].values:\n",
    "                    count += 1\n",
    "                    columns_found.append(col)\n",
    "        \n",
    "        # If the value is duplicated in any other class, add it to the dictionary\n",
    "        if count > 0:\n",
    "            duplicated_data['Duplicated Values'].append(value)\n",
    "            duplicated_data['Count'].append(count)\n",
    "            duplicated_data['Companies overlapping'].append(', '.join(columns_found))\n",
    "    \n",
    "    # Convert the dictionary to a pandas DataFrame\n",
    "    df_duplicated_values = pd.DataFrame(duplicated_data)\n",
    "    \n",
    "    return df_duplicated_values\n"
   ]
  },
  {
   "cell_type": "code",
   "execution_count": 5,
   "metadata": {},
   "outputs": [
    {
     "name": "stdout",
     "output_type": "stream",
     "text": [
      "    Duplicated Values  Count Companies overlapping\n",
      "0              7010.0      1                     B\n",
      "1              7020.0      1                     B\n",
      "2              7022.0      1                     B\n",
      "3              7024.0      1                     B\n",
      "4              7026.0      1                     B\n",
      "..                ...    ...                   ...\n",
      "66             7670.0      1                     B\n",
      "67             7675.0      1                     B\n",
      "68             7676.0      1                     B\n",
      "69             7677.0      1                     B\n",
      "70             7699.0      1                     B\n",
      "\n",
      "[71 rows x 3 columns]\n"
     ]
    }
   ],
   "source": [
    "import pandas as pd\n",
    "\n",
    "# Replace 2 with the index of the class you want to check\n",
    "class_index = 0\n",
    "\n",
    "df_duplicated_values = find_duplicates_in_other_classes(df, class_index)\n",
    "\n",
    "# Remove rows with a 0 value in the 'Duplicated Values' column\n",
    "df_duplicated_values = df_duplicated_values[df_duplicated_values['Duplicated Values'] != 0]\n",
    "\n",
    "# Export the DataFrame to a CSV file\n",
    "output_file = \"duplicated_values.csv\"\n",
    "df_duplicated_values.to_csv(output_file, index=False)\n",
    "\n",
    "print(df_duplicated_values)\n"
   ]
  }
 ],
 "metadata": {
  "kernelspec": {
   "display_name": "tfradeon",
   "language": "python",
   "name": "python3"
  },
  "language_info": {
   "codemirror_mode": {
    "name": "ipython",
    "version": 3
   },
   "file_extension": ".py",
   "mimetype": "text/x-python",
   "name": "python",
   "nbconvert_exporter": "python",
   "pygments_lexer": "ipython3",
   "version": "3.6.13"
  },
  "orig_nbformat": 4
 },
 "nbformat": 4,
 "nbformat_minor": 2
}
