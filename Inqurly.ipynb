{
 "cells": [
  {
   "cell_type": "code",
   "execution_count": 4,
   "metadata": {},
   "outputs": [],
   "source": [
    "import pandas as pd\n",
    "import matplotlib.pyplot as plt"
   ]
  },
  {
   "cell_type": "code",
   "execution_count": 5,
   "metadata": {},
   "outputs": [],
   "source": [
    "df = pd.read_csv(r\"C:\\Users\\hpalm\\Downloads\\inqui4.csv\",sep=';')\n",
    "df.fillna(0, inplace=True)"
   ]
  },
  {
   "cell_type": "code",
   "execution_count": 9,
   "metadata": {},
   "outputs": [],
   "source": [
    "# Method 2: Delete multiple columns by label\n",
    "#columns_to_delete = ['All Dry Services of Dallas (manual credit billing)', 'Best Option Restoration of North Houston','Rainy Day Restoration']\n",
    "#df = df.drop(columns_to_delete, axis=1)"
   ]
  },
  {
   "cell_type": "code",
   "execution_count": 6,
   "metadata": {},
   "outputs": [
    {
     "data": {
      "text/html": [
       "<div>\n",
       "<style scoped>\n",
       "    .dataframe tbody tr th:only-of-type {\n",
       "        vertical-align: middle;\n",
       "    }\n",
       "\n",
       "    .dataframe tbody tr th {\n",
       "        vertical-align: top;\n",
       "    }\n",
       "\n",
       "    .dataframe thead th {\n",
       "        text-align: right;\n",
       "    }\n",
       "</style>\n",
       "<table border=\"1\" class=\"dataframe\">\n",
       "  <thead>\n",
       "    <tr style=\"text-align: right;\">\n",
       "      <th></th>\n",
       "      <th>Next Level Restoration</th>\n",
       "      <th>United Water Restoration of Spring TX</th>\n",
       "    </tr>\n",
       "  </thead>\n",
       "  <tbody>\n",
       "    <tr>\n",
       "      <th>0</th>\n",
       "      <td>77301</td>\n",
       "      <td>77388.0</td>\n",
       "    </tr>\n",
       "    <tr>\n",
       "      <th>1</th>\n",
       "      <td>77302</td>\n",
       "      <td>77379.0</td>\n",
       "    </tr>\n",
       "    <tr>\n",
       "      <th>2</th>\n",
       "      <td>77303</td>\n",
       "      <td>77070.0</td>\n",
       "    </tr>\n",
       "    <tr>\n",
       "      <th>3</th>\n",
       "      <td>77304</td>\n",
       "      <td>77429.0</td>\n",
       "    </tr>\n",
       "    <tr>\n",
       "      <th>4</th>\n",
       "      <td>77305</td>\n",
       "      <td>77065.0</td>\n",
       "    </tr>\n",
       "    <tr>\n",
       "      <th>...</th>\n",
       "      <td>...</td>\n",
       "      <td>...</td>\n",
       "    </tr>\n",
       "    <tr>\n",
       "      <th>123</th>\n",
       "      <td>77389</td>\n",
       "      <td>0.0</td>\n",
       "    </tr>\n",
       "    <tr>\n",
       "      <th>124</th>\n",
       "      <td>77391</td>\n",
       "      <td>0.0</td>\n",
       "    </tr>\n",
       "    <tr>\n",
       "      <th>125</th>\n",
       "      <td>77393</td>\n",
       "      <td>0.0</td>\n",
       "    </tr>\n",
       "    <tr>\n",
       "      <th>126</th>\n",
       "      <td>77410</td>\n",
       "      <td>0.0</td>\n",
       "    </tr>\n",
       "    <tr>\n",
       "      <th>127</th>\n",
       "      <td>77429</td>\n",
       "      <td>0.0</td>\n",
       "    </tr>\n",
       "  </tbody>\n",
       "</table>\n",
       "<p>128 rows × 2 columns</p>\n",
       "</div>"
      ],
      "text/plain": [
       "     Next Level Restoration  United Water Restoration of Spring TX\n",
       "0                     77301                                77388.0\n",
       "1                     77302                                77379.0\n",
       "2                     77303                                77070.0\n",
       "3                     77304                                77429.0\n",
       "4                     77305                                77065.0\n",
       "..                      ...                                    ...\n",
       "123                   77389                                    0.0\n",
       "124                   77391                                    0.0\n",
       "125                   77393                                    0.0\n",
       "126                   77410                                    0.0\n",
       "127                   77429                                    0.0\n",
       "\n",
       "[128 rows x 2 columns]"
      ]
     },
     "execution_count": 6,
     "metadata": {},
     "output_type": "execute_result"
    }
   ],
   "source": [
    "df"
   ]
  },
  {
   "cell_type": "code",
   "execution_count": 7,
   "metadata": {},
   "outputs": [],
   "source": [
    "import pandas as pd\n",
    "\n",
    "def find_duplicates_in_other_classes(df, class_index):\n",
    "    # Get the column name of the selected class\n",
    "    selected_class_col = df.columns[class_index]\n",
    "    \n",
    "    # Initialize a dictionary to store duplicated values and their occurrences\n",
    "    duplicated_data = {'Duplicated Values': [], 'Count': [], 'Companies overlapping': []}\n",
    "    \n",
    "    # Loop through each value in the selected class\n",
    "    for _, row in df.iterrows():\n",
    "        value = row[selected_class_col]\n",
    "        \n",
    "        # Initialize variables to track the number of occurrences and the columns where the value is duplicated\n",
    "        count = 0\n",
    "        columns_found = []\n",
    "        \n",
    "        # Loop through each column in the dataset except the selected class\n",
    "        for col in df.columns:\n",
    "            if col != selected_class_col:\n",
    "                # Check if the value is duplicated in the current class\n",
    "                if value in df[col].values:\n",
    "                    count += 1\n",
    "                    columns_found.append(col)\n",
    "        \n",
    "        # If the value is duplicated in any other class, add it to the dictionary\n",
    "        if count > 0:\n",
    "            duplicated_data['Duplicated Values'].append(value)\n",
    "            duplicated_data['Count'].append(count)\n",
    "            duplicated_data['Companies overlapping'].append(', '.join(columns_found))\n",
    "    \n",
    "    # Convert the dictionary to a pandas DataFrame\n",
    "    df_duplicated_values = pd.DataFrame(duplicated_data)\n",
    "    \n",
    "    return df_duplicated_values\n"
   ]
  },
  {
   "cell_type": "code",
   "execution_count": 8,
   "metadata": {},
   "outputs": [
    {
     "name": "stdout",
     "output_type": "stream",
     "text": [
      "    Duplicated Values  Count                  Companies overlapping\n",
      "0             77379.0      1  United Water Restoration of Spring TX\n",
      "1             77388.0      1  United Water Restoration of Spring TX\n",
      "2             77064.0      1  United Water Restoration of Spring TX\n",
      "3             77065.0      1  United Water Restoration of Spring TX\n",
      "4             77066.0      1  United Water Restoration of Spring TX\n",
      "5             77068.0      1  United Water Restoration of Spring TX\n",
      "6             77069.0      1  United Water Restoration of Spring TX\n",
      "7             77070.0      1  United Water Restoration of Spring TX\n",
      "8             77379.0      1  United Water Restoration of Spring TX\n",
      "9             77388.0      1  United Water Restoration of Spring TX\n",
      "10            77429.0      1  United Water Restoration of Spring TX\n"
     ]
    }
   ],
   "source": [
    "import pandas as pd\n",
    "\n",
    "# Replace 2 with the index of the class you want to check\n",
    "class_index = 0\n",
    "\n",
    "df_duplicated_values = find_duplicates_in_other_classes(df, class_index)\n",
    "\n",
    "# Remove rows with a 0 value in the 'Duplicated Values' column\n",
    "df_duplicated_values = df_duplicated_values[df_duplicated_values['Duplicated Values'] != 0]\n",
    "\n",
    "# Export the DataFrame to a CSV file\n",
    "output_file = \"duplicated_values.csv\"\n",
    "df_duplicated_values.to_csv(output_file, index=False)\n",
    "\n",
    "print(df_duplicated_values)\n"
   ]
  }
 ],
 "metadata": {
  "kernelspec": {
   "display_name": "tfradeon",
   "language": "python",
   "name": "python3"
  },
  "language_info": {
   "codemirror_mode": {
    "name": "ipython",
    "version": 3
   },
   "file_extension": ".py",
   "mimetype": "text/x-python",
   "name": "python",
   "nbconvert_exporter": "python",
   "pygments_lexer": "ipython3",
   "version": "3.6.13"
  },
  "orig_nbformat": 4
 },
 "nbformat": 4,
 "nbformat_minor": 2
}
